{
 "cells": [
  {
   "cell_type": "markdown",
   "metadata": {},
   "source": [
    "# Animation of the COVID-19 spread\n",
    "\n",
    "We use the data as provided by https://data.humdata.org/dataset/novel-coronavirus-2019-ncov-cases which was retrieved on March 19th 2020.\n",
    "\n",
    "A mapping is created using common python geography libraries. This mapping is done via a country code. However, some entries may be missing. This animation is provided as is and should not be used as a source of information."
   ]
  },
  {
   "cell_type": "code",
   "execution_count": 32,
   "metadata": {},
   "outputs": [],
   "source": [
    "import pandas as pd\n",
    "\n",
    "data_path = './input/time_series__ncov_confirmed.csv'\n",
    "data = pd.read_csv(data_path)\n",
    "\n",
    "# Clean the data\n",
    "data.index = data['Country/Region']\n",
    "data = data.drop(columns=['Country/Region', 'Province/State', 'Lat', 'Long'])\n",
    "data = data.groupby('Country/Region').sum()\n",
    "data.columns = pd.to_datetime(data.columns)"
   ]
  },
  {
   "cell_type": "markdown",
   "metadata": {},
   "source": [
    "Create a mapping from the country name in the dataset to the ISO alpha 3 standard."
   ]
  },
  {
   "cell_type": "code",
   "execution_count": 33,
   "metadata": {},
   "outputs": [],
   "source": [
    "import pycountry\n",
    "\n",
    "country_codes_a2 = []\n",
    "country_codes_a3 = []\n",
    "\n",
    "for country in data.index:\n",
    "    if 'Congo' in country:\n",
    "        country = 'Congo'    \n",
    "    try:\n",
    "        cdata = pycountry.countries.search_fuzzy(country)[0]\n",
    "        country_code_a3 = cdata.alpha_3\n",
    "        country_code_a2 = cdata.alpha_2\n",
    "    except:\n",
    "        country_code_a2 = 'XX'\n",
    "        country_code_a3 = 'XXX'\n",
    "     \n",
    "    country_codes_a2.append(country_code_a2)\n",
    "    country_codes_a3.append(country_code_a3)"
   ]
  },
  {
   "cell_type": "markdown",
   "metadata": {},
   "source": [
    "Add this to the dataframe"
   ]
  },
  {
   "cell_type": "code",
   "execution_count": 34,
   "metadata": {},
   "outputs": [],
   "source": [
    "data['country_code'] = country_codes_a3\n",
    "data = data.groupby('country_code').sum()"
   ]
  },
  {
   "cell_type": "code",
   "execution_count": 38,
   "metadata": {
    "scrolled": true
   },
   "outputs": [],
   "source": [
    "import numpy as np\n",
    "\n",
    "# For all geography plotting\n",
    "import cartopy\n",
    "import cartopy.crs as ccrs\n",
    "import cartopy.io.shapereader as shpreader\n",
    "\n",
    "import matplotlib as mpl\n",
    "import matplotlib.pyplot as plt\n",
    "import matplotlib.cm as cm\n",
    "\n",
    "# Set a nice font size\n",
    "font = {'family' : 'sans',\n",
    "        'weight' : 'normal',\n",
    "        'size'   : 22}\n",
    "\n",
    "mpl.rc('font', **font)\n",
    "\n",
    "# Load the counties\n",
    "shapename = 'admin_0_countries'\n",
    "countries_shp = shpreader.natural_earth(resolution='110m',\n",
    "                                        category='cultural', name=shapename)\n",
    "\n",
    "# Set the colormap\n",
    "cmap = cm.Reds\n",
    "colors_max = 6 # We use a log 10 scaling, so 6 should be seen as 10^6 i.e. 100 k confirmed cases\n",
    "\n",
    "for i, col in enumerate(data.columns): \n",
    "    \n",
    "    # Get the day and the number of cases from the data\n",
    "    today = col\n",
    "    countries_cases_today = dict(zip(data[col].index, data[col].values))\n",
    "    \n",
    "    # Create a base map with required attributes\n",
    "    fig = plt.figure(figsize=(16,9))\n",
    "    ax = plt.axes(projection=ccrs.PlateCarree())\n",
    "\n",
    "    ax.set_title(today.date())\n",
    "    ax.add_feature(cartopy.feature.LAND)\n",
    "    ax.add_feature(cartopy.feature.OCEAN)\n",
    "    ax.add_feature(cartopy.feature.COASTLINE, linewidth=2)\n",
    "    ax.add_feature(cartopy.feature.BORDERS, linewidth=2, linestyle='-')\n",
    "    \n",
    "    \n",
    "    for country in shpreader.Reader(countries_shp).records():\n",
    "        # Get the country name and ISO_A3 code\n",
    "        # The latter is used to map to our known dataset\n",
    "        country_name = country.attributes['NAME']\n",
    "        country_id = country.attributes['ADM0_A3']\n",
    "        \n",
    "        try:\n",
    "            country_cases = countries_cases_today[country_id]\n",
    "        except:\n",
    "            country_cases = 0\n",
    "        \n",
    "        # Use a logarithmic mapping\n",
    "        color_val = np.log10(country_cases + 1)/colors_max\n",
    "        ax.add_geometries(country.geometry, ccrs.PlateCarree(),\n",
    "                          facecolor=cmap(color_val),\n",
    "                          label=country_name)\n",
    "\n",
    "    # Make sure to use the same logarithmic mapping here\n",
    "    norm = mpl.colors.SymLogNorm(1, vmin=1, vmax=10**colors_max)\n",
    "    sm = plt.cm.ScalarMappable(cmap=cmap,norm=norm)\n",
    "    \n",
    "    # Add a colorbar\n",
    "    cbar = plt.colorbar(sm, ax=ax, label='confirmed COVID-19 case #')\n",
    "    \n",
    "    # Add reference and name\n",
    "    plt.text(-150, -120, 'Source: https://data.humdata.org/dataset/\\nnovel-coronavirus-2019-ncov-cases')\n",
    "    plt.text(-150, -50, 'VH', color='white', size=50)\n",
    "    \n",
    "    # Save as individual pngs\n",
    "    plt.savefig(f'./output/{i:03}', dpi=150)\n",
    "    plt.close()"
   ]
  },
  {
   "cell_type": "markdown",
   "metadata": {},
   "source": [
    "Combine pngs into a gif and mp4 movie"
   ]
  },
  {
   "cell_type": "code",
   "execution_count": 39,
   "metadata": {},
   "outputs": [
    {
     "name": "stderr",
     "output_type": "stream",
     "text": [
      "IMAGEIO FFMPEG_WRITER WARNING: input image is not divisible by macro_block_size=16, resizing from (2400, 1350) to (2400, 1360) to ensure video compatibility with most codecs and players. To prevent resizing, make your input image divisible by the macro_block_size or set the macro_block_size to 1 (risking incompatibility).\n"
     ]
    }
   ],
   "source": [
    "import imageio\n",
    "from glob import glob\n",
    "\n",
    "global_duration = 0.1\n",
    "with imageio.get_writer('movie.gif', mode='I', duration=global_duration) as writer:\n",
    "    filenames = glob('./output/*')\n",
    "    durations = np.logspace(0, 3, len(filenames), base=10)\n",
    "    durations = durations/np.max(durations)/2\n",
    "\n",
    "    for duration, filename in zip(durations, filenames):\n",
    "        image = imageio.imread(filename)\n",
    "        \n",
    "        for j in range(int(np.ceil(duration/global_duration))):\n",
    "            writer.append_data(image)\n",
    "            \n",
    "            \n",
    "with imageio.get_writer('movie.mp4', mode='I', fps=1/global_duration) as writer:\n",
    "    filenames = glob('./output/*')\n",
    "    durations = np.logspace(0, 3, len(filenames), base=10)\n",
    "    durations = durations/np.max(durations)/2\n",
    "\n",
    "    for duration, filename in zip(durations, filenames):\n",
    "        image = imageio.imread(filename)\n",
    "        \n",
    "        for j in range(int(np.ceil(duration/global_duration))):\n",
    "            writer.append_data(image)"
   ]
  },
  {
   "cell_type": "markdown",
   "metadata": {},
   "source": [
    "Optimize the gif size"
   ]
  },
  {
   "cell_type": "code",
   "execution_count": null,
   "metadata": {},
   "outputs": [],
   "source": []
  }
 ],
 "metadata": {
  "kernelspec": {
   "display_name": "Python 3",
   "language": "python",
   "name": "python3"
  },
  "language_info": {
   "codemirror_mode": {
    "name": "ipython",
    "version": 3
   },
   "file_extension": ".py",
   "mimetype": "text/x-python",
   "name": "python",
   "nbconvert_exporter": "python",
   "pygments_lexer": "ipython3",
   "version": "3.6.10"
  }
 },
 "nbformat": 4,
 "nbformat_minor": 4
}
