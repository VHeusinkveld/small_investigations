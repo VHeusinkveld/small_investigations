{
 "cells": [
  {
   "cell_type": "code",
   "execution_count": 14,
   "metadata": {
    "ExecuteTime": {
     "end_time": "2020-01-08T17:35:59.014128Z",
     "start_time": "2020-01-08T17:35:59.011000Z"
    }
   },
   "outputs": [],
   "source": [
    "import matplotlib\n",
    "\n",
    "font = {'family' : 'sans',\n",
    "        'weight' : 'normal',\n",
    "        'size'   : 18}\n",
    "\n",
    "matplotlib.rc('font', **font)"
   ]
  },
  {
   "cell_type": "code",
   "execution_count": 15,
   "metadata": {
    "ExecuteTime": {
     "end_time": "2020-01-08T17:35:59.255416Z",
     "start_time": "2020-01-08T17:35:59.253386Z"
    }
   },
   "outputs": [],
   "source": [
    "import numpy as np\n",
    "import pandas as pd"
   ]
  },
  {
   "cell_type": "code",
   "execution_count": 16,
   "metadata": {
    "ExecuteTime": {
     "end_time": "2020-01-08T17:35:59.668258Z",
     "start_time": "2020-01-08T17:35:59.582281Z"
    }
   },
   "outputs": [],
   "source": [
    "df = pd.read_csv('disruptions-2011-2018.csv')"
   ]
  },
  {
   "cell_type": "code",
   "execution_count": 17,
   "metadata": {
    "ExecuteTime": {
     "end_time": "2020-01-08T17:36:00.167403Z",
     "start_time": "2020-01-08T17:36:00.151434Z"
    }
   },
   "outputs": [
    {
     "data": {
      "text/html": [
       "<div>\n",
       "<style scoped>\n",
       "    .dataframe tbody tr th:only-of-type {\n",
       "        vertical-align: middle;\n",
       "    }\n",
       "\n",
       "    .dataframe tbody tr th {\n",
       "        vertical-align: top;\n",
       "    }\n",
       "\n",
       "    .dataframe thead th {\n",
       "        text-align: right;\n",
       "    }\n",
       "</style>\n",
       "<table border=\"1\" class=\"dataframe\">\n",
       "  <thead>\n",
       "    <tr style=\"text-align: right;\">\n",
       "      <th></th>\n",
       "      <th>rdt_id</th>\n",
       "      <th>ns_lines</th>\n",
       "      <th>rdt_lines</th>\n",
       "      <th>rdt_lines_id</th>\n",
       "      <th>rdt_station_names</th>\n",
       "      <th>rdt_station_codes</th>\n",
       "      <th>cause_nl</th>\n",
       "      <th>cause_en</th>\n",
       "      <th>statistical_cause_nl</th>\n",
       "      <th>statistical_cause_en</th>\n",
       "      <th>cause_group</th>\n",
       "      <th>start_time</th>\n",
       "      <th>end_time</th>\n",
       "      <th>duration_minutes</th>\n",
       "    </tr>\n",
       "  </thead>\n",
       "  <tbody>\n",
       "    <tr>\n",
       "      <th>0</th>\n",
       "      <td>1</td>\n",
       "      <td>Deventer-Amersfoort</td>\n",
       "      <td>Amersfoort - Apeldoorn</td>\n",
       "      <td>50</td>\n",
       "      <td>NaN</td>\n",
       "      <td>NaN</td>\n",
       "      <td>op last van de politie</td>\n",
       "      <td>by police orders</td>\n",
       "      <td>op last van de politie</td>\n",
       "      <td>by police orders</td>\n",
       "      <td>external</td>\n",
       "      <td>2011-01-03 23:22:50</td>\n",
       "      <td>2011-01-04 01:35:03</td>\n",
       "      <td>132.0</td>\n",
       "    </tr>\n",
       "    <tr>\n",
       "      <th>1</th>\n",
       "      <td>4</td>\n",
       "      <td>Ede-Wageningen-Amersfoort</td>\n",
       "      <td>Amersfoort - Ede-Wageningen</td>\n",
       "      <td>47</td>\n",
       "      <td>NaN</td>\n",
       "      <td>NaN</td>\n",
       "      <td>op last van de politie</td>\n",
       "      <td>by police orders</td>\n",
       "      <td>op last van de politie</td>\n",
       "      <td>by police orders</td>\n",
       "      <td>external</td>\n",
       "      <td>2011-01-04 00:23:13</td>\n",
       "      <td>2011-01-04 01:35:03</td>\n",
       "      <td>72.0</td>\n",
       "    </tr>\n",
       "    <tr>\n",
       "      <th>2</th>\n",
       "      <td>5</td>\n",
       "      <td>Roosendaal-Breda</td>\n",
       "      <td>Breda - Roosendaal</td>\n",
       "      <td>20</td>\n",
       "      <td>NaN</td>\n",
       "      <td>NaN</td>\n",
       "      <td>koperdiefstal</td>\n",
       "      <td>copper theft</td>\n",
       "      <td>koperdiefstal</td>\n",
       "      <td>copper theft</td>\n",
       "      <td>external</td>\n",
       "      <td>2011-01-04 06:30:02</td>\n",
       "      <td>2011-01-04 10:05:01</td>\n",
       "      <td>215.0</td>\n",
       "    </tr>\n",
       "    <tr>\n",
       "      <th>3</th>\n",
       "      <td>6</td>\n",
       "      <td>Eindhoven-Venlo</td>\n",
       "      <td>Eindhoven - Venlo</td>\n",
       "      <td>65</td>\n",
       "      <td>NaN</td>\n",
       "      <td>NaN</td>\n",
       "      <td>aanrijding met een persoon</td>\n",
       "      <td>person hit by a train</td>\n",
       "      <td>aanrijding met een persoon</td>\n",
       "      <td>person hit by a train</td>\n",
       "      <td>accidents</td>\n",
       "      <td>2011-01-04 07:30:03</td>\n",
       "      <td>2011-01-04 11:00:08</td>\n",
       "      <td>210.0</td>\n",
       "    </tr>\n",
       "    <tr>\n",
       "      <th>4</th>\n",
       "      <td>7</td>\n",
       "      <td>Utrecht Centraal-Leiden Centraal</td>\n",
       "      <td>Leiden Centraal - Utrecht Centraal</td>\n",
       "      <td>147</td>\n",
       "      <td>NaN</td>\n",
       "      <td>NaN</td>\n",
       "      <td>defecte trein</td>\n",
       "      <td>broken down train</td>\n",
       "      <td>defecte trein</td>\n",
       "      <td>broken down train</td>\n",
       "      <td>rolling stock</td>\n",
       "      <td>2011-01-04 07:30:03</td>\n",
       "      <td>2011-01-04 08:50:02</td>\n",
       "      <td>80.0</td>\n",
       "    </tr>\n",
       "  </tbody>\n",
       "</table>\n",
       "</div>"
      ],
      "text/plain": [
       "   rdt_id                          ns_lines  \\\n",
       "0       1               Deventer-Amersfoort   \n",
       "1       4         Ede-Wageningen-Amersfoort   \n",
       "2       5                  Roosendaal-Breda   \n",
       "3       6                   Eindhoven-Venlo   \n",
       "4       7  Utrecht Centraal-Leiden Centraal   \n",
       "\n",
       "                            rdt_lines rdt_lines_id rdt_station_names  \\\n",
       "0              Amersfoort - Apeldoorn           50               NaN   \n",
       "1         Amersfoort - Ede-Wageningen           47               NaN   \n",
       "2                  Breda - Roosendaal           20               NaN   \n",
       "3                   Eindhoven - Venlo           65               NaN   \n",
       "4  Leiden Centraal - Utrecht Centraal          147               NaN   \n",
       "\n",
       "  rdt_station_codes                    cause_nl               cause_en  \\\n",
       "0               NaN      op last van de politie       by police orders   \n",
       "1               NaN      op last van de politie       by police orders   \n",
       "2               NaN               koperdiefstal           copper theft   \n",
       "3               NaN  aanrijding met een persoon  person hit by a train   \n",
       "4               NaN               defecte trein      broken down train   \n",
       "\n",
       "         statistical_cause_nl   statistical_cause_en    cause_group  \\\n",
       "0      op last van de politie       by police orders       external   \n",
       "1      op last van de politie       by police orders       external   \n",
       "2               koperdiefstal           copper theft       external   \n",
       "3  aanrijding met een persoon  person hit by a train      accidents   \n",
       "4               defecte trein      broken down train  rolling stock   \n",
       "\n",
       "            start_time             end_time  duration_minutes  \n",
       "0  2011-01-03 23:22:50  2011-01-04 01:35:03             132.0  \n",
       "1  2011-01-04 00:23:13  2011-01-04 01:35:03              72.0  \n",
       "2  2011-01-04 06:30:02  2011-01-04 10:05:01             215.0  \n",
       "3  2011-01-04 07:30:03  2011-01-04 11:00:08             210.0  \n",
       "4  2011-01-04 07:30:03  2011-01-04 08:50:02              80.0  "
      ]
     },
     "execution_count": 17,
     "metadata": {},
     "output_type": "execute_result"
    }
   ],
   "source": [
    "df.head()"
   ]
  },
  {
   "cell_type": "markdown",
   "metadata": {},
   "source": [
    "First thoughts:\n",
    "\n",
    "Maybe we could predict the duration of an event based on: location, cause, day, etc.\n"
   ]
  },
  {
   "cell_type": "code",
   "execution_count": 18,
   "metadata": {
    "ExecuteTime": {
     "end_time": "2020-01-08T17:36:01.913821Z",
     "start_time": "2020-01-08T17:36:01.896801Z"
    }
   },
   "outputs": [
    {
     "name": "stdout",
     "output_type": "stream",
     "text": [
      "<class 'pandas.core.frame.DataFrame'>\n",
      "RangeIndex: 23969 entries, 0 to 23968\n",
      "Data columns (total 14 columns):\n",
      "rdt_id                  23969 non-null int64\n",
      "ns_lines                23969 non-null object\n",
      "rdt_lines               22619 non-null object\n",
      "rdt_lines_id            22619 non-null object\n",
      "rdt_station_names       9088 non-null object\n",
      "rdt_station_codes       9088 non-null object\n",
      "cause_nl                23784 non-null object\n",
      "cause_en                23784 non-null object\n",
      "statistical_cause_nl    23784 non-null object\n",
      "statistical_cause_en    23784 non-null object\n",
      "cause_group             23967 non-null object\n",
      "start_time              23969 non-null object\n",
      "end_time                23967 non-null object\n",
      "duration_minutes        23967 non-null float64\n",
      "dtypes: float64(1), int64(1), object(12)\n",
      "memory usage: 2.6+ MB\n"
     ]
    }
   ],
   "source": [
    "df.info()"
   ]
  },
  {
   "cell_type": "code",
   "execution_count": 19,
   "metadata": {
    "ExecuteTime": {
     "end_time": "2020-01-08T17:36:03.984407Z",
     "start_time": "2020-01-08T17:36:03.967838Z"
    }
   },
   "outputs": [
    {
     "data": {
      "text/html": [
       "<div>\n",
       "<style scoped>\n",
       "    .dataframe tbody tr th:only-of-type {\n",
       "        vertical-align: middle;\n",
       "    }\n",
       "\n",
       "    .dataframe tbody tr th {\n",
       "        vertical-align: top;\n",
       "    }\n",
       "\n",
       "    .dataframe thead th {\n",
       "        text-align: right;\n",
       "    }\n",
       "</style>\n",
       "<table border=\"1\" class=\"dataframe\">\n",
       "  <thead>\n",
       "    <tr style=\"text-align: right;\">\n",
       "      <th></th>\n",
       "      <th>rdt_id</th>\n",
       "      <th>duration_minutes</th>\n",
       "    </tr>\n",
       "  </thead>\n",
       "  <tbody>\n",
       "    <tr>\n",
       "      <th>count</th>\n",
       "      <td>23969.000000</td>\n",
       "      <td>23967.000000</td>\n",
       "    </tr>\n",
       "    <tr>\n",
       "      <th>mean</th>\n",
       "      <td>13134.207435</td>\n",
       "      <td>155.901323</td>\n",
       "    </tr>\n",
       "    <tr>\n",
       "      <th>std</th>\n",
       "      <td>7102.761187</td>\n",
       "      <td>671.947011</td>\n",
       "    </tr>\n",
       "    <tr>\n",
       "      <th>min</th>\n",
       "      <td>1.000000</td>\n",
       "      <td>0.000000</td>\n",
       "    </tr>\n",
       "    <tr>\n",
       "      <th>25%</th>\n",
       "      <td>7245.000000</td>\n",
       "      <td>34.000000</td>\n",
       "    </tr>\n",
       "    <tr>\n",
       "      <th>50%</th>\n",
       "      <td>13240.000000</td>\n",
       "      <td>83.000000</td>\n",
       "    </tr>\n",
       "    <tr>\n",
       "      <th>75%</th>\n",
       "      <td>19243.000000</td>\n",
       "      <td>163.000000</td>\n",
       "    </tr>\n",
       "    <tr>\n",
       "      <th>max</th>\n",
       "      <td>25235.000000</td>\n",
       "      <td>64927.000000</td>\n",
       "    </tr>\n",
       "  </tbody>\n",
       "</table>\n",
       "</div>"
      ],
      "text/plain": [
       "             rdt_id  duration_minutes\n",
       "count  23969.000000      23967.000000\n",
       "mean   13134.207435        155.901323\n",
       "std     7102.761187        671.947011\n",
       "min        1.000000          0.000000\n",
       "25%     7245.000000         34.000000\n",
       "50%    13240.000000         83.000000\n",
       "75%    19243.000000        163.000000\n",
       "max    25235.000000      64927.000000"
      ]
     },
     "execution_count": 19,
     "metadata": {},
     "output_type": "execute_result"
    }
   ],
   "source": [
    "df.describe()"
   ]
  },
  {
   "cell_type": "code",
   "execution_count": 20,
   "metadata": {
    "ExecuteTime": {
     "end_time": "2020-01-08T17:36:04.750236Z",
     "start_time": "2020-01-08T17:36:04.671663Z"
    }
   },
   "outputs": [
    {
     "data": {
      "text/html": [
       "<div>\n",
       "<style scoped>\n",
       "    .dataframe tbody tr th:only-of-type {\n",
       "        vertical-align: middle;\n",
       "    }\n",
       "\n",
       "    .dataframe tbody tr th {\n",
       "        vertical-align: top;\n",
       "    }\n",
       "\n",
       "    .dataframe thead th {\n",
       "        text-align: right;\n",
       "    }\n",
       "</style>\n",
       "<table border=\"1\" class=\"dataframe\">\n",
       "  <thead>\n",
       "    <tr style=\"text-align: right;\">\n",
       "      <th></th>\n",
       "      <th>ns_lines</th>\n",
       "      <th>rdt_lines</th>\n",
       "      <th>rdt_lines_id</th>\n",
       "      <th>rdt_station_names</th>\n",
       "      <th>rdt_station_codes</th>\n",
       "      <th>cause_nl</th>\n",
       "      <th>cause_en</th>\n",
       "      <th>statistical_cause_nl</th>\n",
       "      <th>statistical_cause_en</th>\n",
       "      <th>cause_group</th>\n",
       "      <th>start_time</th>\n",
       "      <th>end_time</th>\n",
       "    </tr>\n",
       "  </thead>\n",
       "  <tbody>\n",
       "    <tr>\n",
       "      <th>count</th>\n",
       "      <td>23969</td>\n",
       "      <td>22619</td>\n",
       "      <td>22619</td>\n",
       "      <td>9088</td>\n",
       "      <td>9088</td>\n",
       "      <td>23784</td>\n",
       "      <td>23784</td>\n",
       "      <td>23784</td>\n",
       "      <td>23784</td>\n",
       "      <td>23967</td>\n",
       "      <td>23969</td>\n",
       "      <td>23967</td>\n",
       "    </tr>\n",
       "    <tr>\n",
       "      <th>unique</th>\n",
       "      <td>2295</td>\n",
       "      <td>500</td>\n",
       "      <td>497</td>\n",
       "      <td>1139</td>\n",
       "      <td>1135</td>\n",
       "      <td>84</td>\n",
       "      <td>83</td>\n",
       "      <td>84</td>\n",
       "      <td>82</td>\n",
       "      <td>9</td>\n",
       "      <td>23935</td>\n",
       "      <td>23404</td>\n",
       "    </tr>\n",
       "    <tr>\n",
       "      <th>top</th>\n",
       "      <td>Rotterdam-Breda (HSL)</td>\n",
       "      <td>Breda - Rotterdam Centraal (HSL)</td>\n",
       "      <td>15</td>\n",
       "      <td>Breda,Rotterdam Centraal</td>\n",
       "      <td>BD, RTD</td>\n",
       "      <td>defecte trein</td>\n",
       "      <td>broken down train</td>\n",
       "      <td>defecte trein</td>\n",
       "      <td>broken down train</td>\n",
       "      <td>infrastructure</td>\n",
       "      <td>2013-08-21 20:15:01</td>\n",
       "      <td>2011-07-02 09:52:02</td>\n",
       "    </tr>\n",
       "    <tr>\n",
       "      <th>freq</th>\n",
       "      <td>418</td>\n",
       "      <td>586</td>\n",
       "      <td>586</td>\n",
       "      <td>433</td>\n",
       "      <td>433</td>\n",
       "      <td>5555</td>\n",
       "      <td>5555</td>\n",
       "      <td>5603</td>\n",
       "      <td>5603</td>\n",
       "      <td>8328</td>\n",
       "      <td>2</td>\n",
       "      <td>4</td>\n",
       "    </tr>\n",
       "  </tbody>\n",
       "</table>\n",
       "</div>"
      ],
      "text/plain": [
       "                     ns_lines                         rdt_lines rdt_lines_id  \\\n",
       "count                   23969                             22619        22619   \n",
       "unique                   2295                               500          497   \n",
       "top     Rotterdam-Breda (HSL)  Breda - Rotterdam Centraal (HSL)           15   \n",
       "freq                      418                               586          586   \n",
       "\n",
       "               rdt_station_names rdt_station_codes       cause_nl  \\\n",
       "count                       9088              9088          23784   \n",
       "unique                      1139              1135             84   \n",
       "top     Breda,Rotterdam Centraal           BD, RTD  defecte trein   \n",
       "freq                         433               433           5555   \n",
       "\n",
       "                 cause_en statistical_cause_nl statistical_cause_en  \\\n",
       "count               23784                23784                23784   \n",
       "unique                 83                   84                   82   \n",
       "top     broken down train        defecte trein    broken down train   \n",
       "freq                 5555                 5603                 5603   \n",
       "\n",
       "           cause_group           start_time             end_time  \n",
       "count            23967                23969                23967  \n",
       "unique               9                23935                23404  \n",
       "top     infrastructure  2013-08-21 20:15:01  2011-07-02 09:52:02  \n",
       "freq              8328                    2                    4  "
      ]
     },
     "execution_count": 20,
     "metadata": {},
     "output_type": "execute_result"
    }
   ],
   "source": [
    "df.describe(include='O')"
   ]
  },
  {
   "cell_type": "markdown",
   "metadata": {},
   "source": [
    "Possibly add the features: day of the week and hour of the day for the start time. End time is not known when predicting."
   ]
  },
  {
   "cell_type": "code",
   "execution_count": null,
   "metadata": {},
   "outputs": [],
   "source": []
  }
 ],
 "metadata": {
  "kernelspec": {
   "display_name": "Python 3",
   "language": "python",
   "name": "python3"
  },
  "language_info": {
   "codemirror_mode": {
    "name": "ipython",
    "version": 3
   },
   "file_extension": ".py",
   "mimetype": "text/x-python",
   "name": "python",
   "nbconvert_exporter": "python",
   "pygments_lexer": "ipython3",
   "version": "3.6.9"
  },
  "toc": {
   "base_numbering": 1,
   "nav_menu": {},
   "number_sections": true,
   "sideBar": true,
   "skip_h1_title": false,
   "title_cell": "Table of Contents",
   "title_sidebar": "Contents",
   "toc_cell": false,
   "toc_position": {
    "height": "calc(100% - 180px)",
    "left": "10px",
    "top": "150px",
    "width": "458.667px"
   },
   "toc_section_display": true,
   "toc_window_display": true
  },
  "varInspector": {
   "cols": {
    "lenName": 16,
    "lenType": 16,
    "lenVar": 40
   },
   "kernels_config": {
    "python": {
     "delete_cmd_postfix": "",
     "delete_cmd_prefix": "del ",
     "library": "var_list.py",
     "varRefreshCmd": "print(var_dic_list())"
    },
    "r": {
     "delete_cmd_postfix": ") ",
     "delete_cmd_prefix": "rm(",
     "library": "var_list.r",
     "varRefreshCmd": "cat(var_dic_list()) "
    }
   },
   "types_to_exclude": [
    "module",
    "function",
    "builtin_function_or_method",
    "instance",
    "_Feature"
   ],
   "window_display": false
  }
 },
 "nbformat": 4,
 "nbformat_minor": 2
}
