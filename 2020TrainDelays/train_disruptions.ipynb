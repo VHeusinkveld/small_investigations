{
 "cells": [
  {
   "cell_type": "markdown",
   "metadata": {},
   "source": [
    "# Train disruptions predict duration \n",
    "\n",
    "The first attempt seems to lead to +- 70% accuracy in determining if the duration of a disruption will be longer or short than 1.5 hours, which is only 40% better than just guessing."
   ]
  },
  {
   "cell_type": "code",
   "execution_count": 9,
   "metadata": {
    "ExecuteTime": {
     "end_time": "2020-01-10T19:47:53.177122Z",
     "start_time": "2020-01-10T19:47:53.171359Z"
    }
   },
   "outputs": [],
   "source": [
    "import matplotlib\n",
    "\n",
    "font = {'family' : 'sans',\n",
    "        'weight' : 'normal',\n",
    "        'size'   : 10}\n",
    "\n",
    "matplotlib.rc('font', **font)"
   ]
  },
  {
   "cell_type": "code",
   "execution_count": 10,
   "metadata": {
    "ExecuteTime": {
     "end_time": "2020-01-10T19:47:53.628156Z",
     "start_time": "2020-01-10T19:47:53.624120Z"
    }
   },
   "outputs": [],
   "source": [
    "import numpy as np\n",
    "import pandas as pd"
   ]
  },
  {
   "cell_type": "code",
   "execution_count": 11,
   "metadata": {
    "ExecuteTime": {
     "end_time": "2020-01-10T14:59:32.078948Z",
     "start_time": "2020-01-10T14:59:32.000948Z"
    }
   },
   "outputs": [],
   "source": [
    "# Details regarding the data https://www.rijdendetreinen.nl/over/open-data\n",
    "dfo = pd.read_csv('disruptions-2011-2018.csv')"
   ]
  },
  {
   "cell_type": "code",
   "execution_count": 12,
   "metadata": {
    "ExecuteTime": {
     "end_time": "2020-01-10T14:59:32.532751Z",
     "start_time": "2020-01-10T14:59:32.514750Z"
    }
   },
   "outputs": [
    {
     "data": {
      "text/html": [
       "<div>\n",
       "<style scoped>\n",
       "    .dataframe tbody tr th:only-of-type {\n",
       "        vertical-align: middle;\n",
       "    }\n",
       "\n",
       "    .dataframe tbody tr th {\n",
       "        vertical-align: top;\n",
       "    }\n",
       "\n",
       "    .dataframe thead th {\n",
       "        text-align: right;\n",
       "    }\n",
       "</style>\n",
       "<table border=\"1\" class=\"dataframe\">\n",
       "  <thead>\n",
       "    <tr style=\"text-align: right;\">\n",
       "      <th></th>\n",
       "      <th>rdt_id</th>\n",
       "      <th>ns_lines</th>\n",
       "      <th>rdt_lines</th>\n",
       "      <th>rdt_lines_id</th>\n",
       "      <th>rdt_station_names</th>\n",
       "      <th>rdt_station_codes</th>\n",
       "      <th>cause_nl</th>\n",
       "      <th>cause_en</th>\n",
       "      <th>statistical_cause_nl</th>\n",
       "      <th>statistical_cause_en</th>\n",
       "      <th>cause_group</th>\n",
       "      <th>start_time</th>\n",
       "      <th>end_time</th>\n",
       "      <th>duration_minutes</th>\n",
       "    </tr>\n",
       "  </thead>\n",
       "  <tbody>\n",
       "    <tr>\n",
       "      <th>23808</th>\n",
       "      <td>25075</td>\n",
       "      <td>Den Haag-Rotterdam</td>\n",
       "      <td>Den Haag Centraal - Den Haag HS, Den Haag HS -...</td>\n",
       "      <td>10,11</td>\n",
       "      <td>Delft,Delft Zuid,Den Haag HS,Den Haag Centraal...</td>\n",
       "      <td>DT, DTZ, GV, GVC, GVMW, RSW, RTD, SDM</td>\n",
       "      <td>defecte trein</td>\n",
       "      <td>broken down train</td>\n",
       "      <td>defecte trein</td>\n",
       "      <td>broken down train</td>\n",
       "      <td>rolling stock</td>\n",
       "      <td>2018-12-17 17:31:15</td>\n",
       "      <td>2018-12-17 19:46:26</td>\n",
       "      <td>135.0</td>\n",
       "    </tr>\n",
       "    <tr>\n",
       "      <th>8293</th>\n",
       "      <td>9549</td>\n",
       "      <td>Utrecht-Hilversum/Amersfoort/Breukelen</td>\n",
       "      <td>NaN</td>\n",
       "      <td>NaN</td>\n",
       "      <td>NaN</td>\n",
       "      <td>NaN</td>\n",
       "      <td>herstelwerkzaamheden</td>\n",
       "      <td>repair works</td>\n",
       "      <td>herstelwerkzaamheden</td>\n",
       "      <td>repair works</td>\n",
       "      <td>engineering work</td>\n",
       "      <td>2014-11-10 19:18:01</td>\n",
       "      <td>2014-11-10 20:02:02</td>\n",
       "      <td>44.0</td>\n",
       "    </tr>\n",
       "    <tr>\n",
       "      <th>14907</th>\n",
       "      <td>16163</td>\n",
       "      <td>Almelo-Hardenberg</td>\n",
       "      <td>Almelo - Mariënberg</td>\n",
       "      <td>96</td>\n",
       "      <td>Almelo,Daarlerveen,Vroomshoop,Vriezenveen</td>\n",
       "      <td>AML, DA, VHP, VZ</td>\n",
       "      <td>wisselstoring</td>\n",
       "      <td>points failure</td>\n",
       "      <td>wisselstoring</td>\n",
       "      <td>points failure</td>\n",
       "      <td>infrastructure</td>\n",
       "      <td>2017-01-16 18:35:19</td>\n",
       "      <td>2017-01-16 21:29:47</td>\n",
       "      <td>174.0</td>\n",
       "    </tr>\n",
       "    <tr>\n",
       "      <th>21579</th>\n",
       "      <td>22846</td>\n",
       "      <td>Alkmaar-Den Helder; Alkmaar-Hoorn</td>\n",
       "      <td>Alkmaar - Den Helder, Alkmaar - Hoorn</td>\n",
       "      <td>162,163</td>\n",
       "      <td>Alkmaar,Alkmaar Noord,Heerhugowaard</td>\n",
       "      <td>AMR, AMRN, HWD</td>\n",
       "      <td>defecte spoorbrug</td>\n",
       "      <td>damaged railway bridge</td>\n",
       "      <td>defecte spoorbrug</td>\n",
       "      <td>damaged railway bridge</td>\n",
       "      <td>infrastructure</td>\n",
       "      <td>2018-07-27 15:41:42</td>\n",
       "      <td>2018-07-27 17:36:01</td>\n",
       "      <td>114.0</td>\n",
       "    </tr>\n",
       "    <tr>\n",
       "      <th>18035</th>\n",
       "      <td>19302</td>\n",
       "      <td>Rotterdam-Dordrecht</td>\n",
       "      <td>Dordrecht - Rotterdam Centraal</td>\n",
       "      <td>16</td>\n",
       "      <td>Barendrecht,Dordrecht,Rotterdam Lombardijen,Ro...</td>\n",
       "      <td>BRD, DDR, RLB, RTB, RTD, RTST, RTZ, ZWD</td>\n",
       "      <td>defecte trein</td>\n",
       "      <td>broken down train</td>\n",
       "      <td>defecte trein</td>\n",
       "      <td>broken down train</td>\n",
       "      <td>rolling stock</td>\n",
       "      <td>2017-10-26 07:47:13</td>\n",
       "      <td>2017-10-26 08:29:43</td>\n",
       "      <td>43.0</td>\n",
       "    </tr>\n",
       "  </tbody>\n",
       "</table>\n",
       "</div>"
      ],
      "text/plain": [
       "       rdt_id                                ns_lines  \\\n",
       "23808   25075                      Den Haag-Rotterdam   \n",
       "8293     9549  Utrecht-Hilversum/Amersfoort/Breukelen   \n",
       "14907   16163                       Almelo-Hardenberg   \n",
       "21579   22846       Alkmaar-Den Helder; Alkmaar-Hoorn   \n",
       "18035   19302                     Rotterdam-Dordrecht   \n",
       "\n",
       "                                               rdt_lines rdt_lines_id  \\\n",
       "23808  Den Haag Centraal - Den Haag HS, Den Haag HS -...        10,11   \n",
       "8293                                                 NaN          NaN   \n",
       "14907                                Almelo - Mariënberg           96   \n",
       "21579              Alkmaar - Den Helder, Alkmaar - Hoorn      162,163   \n",
       "18035                     Dordrecht - Rotterdam Centraal           16   \n",
       "\n",
       "                                       rdt_station_names  \\\n",
       "23808  Delft,Delft Zuid,Den Haag HS,Den Haag Centraal...   \n",
       "8293                                                 NaN   \n",
       "14907          Almelo,Daarlerveen,Vroomshoop,Vriezenveen   \n",
       "21579                Alkmaar,Alkmaar Noord,Heerhugowaard   \n",
       "18035  Barendrecht,Dordrecht,Rotterdam Lombardijen,Ro...   \n",
       "\n",
       "                             rdt_station_codes              cause_nl  \\\n",
       "23808    DT, DTZ, GV, GVC, GVMW, RSW, RTD, SDM         defecte trein   \n",
       "8293                                       NaN  herstelwerkzaamheden   \n",
       "14907                         AML, DA, VHP, VZ         wisselstoring   \n",
       "21579                           AMR, AMRN, HWD     defecte spoorbrug   \n",
       "18035  BRD, DDR, RLB, RTB, RTD, RTST, RTZ, ZWD         defecte trein   \n",
       "\n",
       "                     cause_en  statistical_cause_nl    statistical_cause_en  \\\n",
       "23808       broken down train         defecte trein       broken down train   \n",
       "8293             repair works  herstelwerkzaamheden            repair works   \n",
       "14907          points failure         wisselstoring          points failure   \n",
       "21579  damaged railway bridge     defecte spoorbrug  damaged railway bridge   \n",
       "18035       broken down train         defecte trein       broken down train   \n",
       "\n",
       "            cause_group           start_time             end_time  \\\n",
       "23808     rolling stock  2018-12-17 17:31:15  2018-12-17 19:46:26   \n",
       "8293   engineering work  2014-11-10 19:18:01  2014-11-10 20:02:02   \n",
       "14907    infrastructure  2017-01-16 18:35:19  2017-01-16 21:29:47   \n",
       "21579    infrastructure  2018-07-27 15:41:42  2018-07-27 17:36:01   \n",
       "18035     rolling stock  2017-10-26 07:47:13  2017-10-26 08:29:43   \n",
       "\n",
       "       duration_minutes  \n",
       "23808             135.0  \n",
       "8293               44.0  \n",
       "14907             174.0  \n",
       "21579             114.0  \n",
       "18035              43.0  "
      ]
     },
     "execution_count": 12,
     "metadata": {},
     "output_type": "execute_result"
    }
   ],
   "source": [
    "dfo.sample(5)"
   ]
  },
  {
   "cell_type": "markdown",
   "metadata": {},
   "source": [
    "First thoughts:\n",
    "\n",
    "Maybe we could predict the duration of an event based on: location, cause, day, etc.\n"
   ]
  },
  {
   "cell_type": "code",
   "execution_count": 13,
   "metadata": {
    "ExecuteTime": {
     "end_time": "2020-01-10T14:59:32.732750Z",
     "start_time": "2020-01-10T14:59:32.717750Z"
    },
    "scrolled": true
   },
   "outputs": [
    {
     "name": "stdout",
     "output_type": "stream",
     "text": [
      "<class 'pandas.core.frame.DataFrame'>\n",
      "RangeIndex: 23969 entries, 0 to 23968\n",
      "Data columns (total 14 columns):\n",
      "rdt_id                  23969 non-null int64\n",
      "ns_lines                23969 non-null object\n",
      "rdt_lines               22619 non-null object\n",
      "rdt_lines_id            22619 non-null object\n",
      "rdt_station_names       9088 non-null object\n",
      "rdt_station_codes       9088 non-null object\n",
      "cause_nl                23784 non-null object\n",
      "cause_en                23784 non-null object\n",
      "statistical_cause_nl    23784 non-null object\n",
      "statistical_cause_en    23784 non-null object\n",
      "cause_group             23967 non-null object\n",
      "start_time              23969 non-null object\n",
      "end_time                23967 non-null object\n",
      "duration_minutes        23967 non-null float64\n",
      "dtypes: float64(1), int64(1), object(12)\n",
      "memory usage: 2.6+ MB\n"
     ]
    }
   ],
   "source": [
    "dfo.info()"
   ]
  },
  {
   "cell_type": "markdown",
   "metadata": {},
   "source": [
    "Hence, we need to do some data filling"
   ]
  },
  {
   "cell_type": "code",
   "execution_count": 14,
   "metadata": {
    "ExecuteTime": {
     "end_time": "2020-01-10T14:59:32.751750Z",
     "start_time": "2020-01-10T14:59:32.733748Z"
    }
   },
   "outputs": [
    {
     "data": {
      "text/html": [
       "<div>\n",
       "<style scoped>\n",
       "    .dataframe tbody tr th:only-of-type {\n",
       "        vertical-align: middle;\n",
       "    }\n",
       "\n",
       "    .dataframe tbody tr th {\n",
       "        vertical-align: top;\n",
       "    }\n",
       "\n",
       "    .dataframe thead th {\n",
       "        text-align: right;\n",
       "    }\n",
       "</style>\n",
       "<table border=\"1\" class=\"dataframe\">\n",
       "  <thead>\n",
       "    <tr style=\"text-align: right;\">\n",
       "      <th></th>\n",
       "      <th>rdt_id</th>\n",
       "      <th>duration_minutes</th>\n",
       "    </tr>\n",
       "  </thead>\n",
       "  <tbody>\n",
       "    <tr>\n",
       "      <th>count</th>\n",
       "      <td>23969.000000</td>\n",
       "      <td>23967.000000</td>\n",
       "    </tr>\n",
       "    <tr>\n",
       "      <th>mean</th>\n",
       "      <td>13134.207435</td>\n",
       "      <td>155.901323</td>\n",
       "    </tr>\n",
       "    <tr>\n",
       "      <th>std</th>\n",
       "      <td>7102.761187</td>\n",
       "      <td>671.947011</td>\n",
       "    </tr>\n",
       "    <tr>\n",
       "      <th>min</th>\n",
       "      <td>1.000000</td>\n",
       "      <td>0.000000</td>\n",
       "    </tr>\n",
       "    <tr>\n",
       "      <th>25%</th>\n",
       "      <td>7245.000000</td>\n",
       "      <td>34.000000</td>\n",
       "    </tr>\n",
       "    <tr>\n",
       "      <th>50%</th>\n",
       "      <td>13240.000000</td>\n",
       "      <td>83.000000</td>\n",
       "    </tr>\n",
       "    <tr>\n",
       "      <th>75%</th>\n",
       "      <td>19243.000000</td>\n",
       "      <td>163.000000</td>\n",
       "    </tr>\n",
       "    <tr>\n",
       "      <th>max</th>\n",
       "      <td>25235.000000</td>\n",
       "      <td>64927.000000</td>\n",
       "    </tr>\n",
       "  </tbody>\n",
       "</table>\n",
       "</div>"
      ],
      "text/plain": [
       "             rdt_id  duration_minutes\n",
       "count  23969.000000      23967.000000\n",
       "mean   13134.207435        155.901323\n",
       "std     7102.761187        671.947011\n",
       "min        1.000000          0.000000\n",
       "25%     7245.000000         34.000000\n",
       "50%    13240.000000         83.000000\n",
       "75%    19243.000000        163.000000\n",
       "max    25235.000000      64927.000000"
      ]
     },
     "execution_count": 14,
     "metadata": {},
     "output_type": "execute_result"
    }
   ],
   "source": [
    "dfo.describe()"
   ]
  },
  {
   "cell_type": "code",
   "execution_count": 15,
   "metadata": {
    "ExecuteTime": {
     "end_time": "2020-01-10T14:59:32.837748Z",
     "start_time": "2020-01-10T14:59:32.752751Z"
    }
   },
   "outputs": [
    {
     "data": {
      "text/html": [
       "<div>\n",
       "<style scoped>\n",
       "    .dataframe tbody tr th:only-of-type {\n",
       "        vertical-align: middle;\n",
       "    }\n",
       "\n",
       "    .dataframe tbody tr th {\n",
       "        vertical-align: top;\n",
       "    }\n",
       "\n",
       "    .dataframe thead th {\n",
       "        text-align: right;\n",
       "    }\n",
       "</style>\n",
       "<table border=\"1\" class=\"dataframe\">\n",
       "  <thead>\n",
       "    <tr style=\"text-align: right;\">\n",
       "      <th></th>\n",
       "      <th>ns_lines</th>\n",
       "      <th>rdt_lines</th>\n",
       "      <th>rdt_lines_id</th>\n",
       "      <th>rdt_station_names</th>\n",
       "      <th>rdt_station_codes</th>\n",
       "      <th>cause_nl</th>\n",
       "      <th>cause_en</th>\n",
       "      <th>statistical_cause_nl</th>\n",
       "      <th>statistical_cause_en</th>\n",
       "      <th>cause_group</th>\n",
       "      <th>start_time</th>\n",
       "      <th>end_time</th>\n",
       "    </tr>\n",
       "  </thead>\n",
       "  <tbody>\n",
       "    <tr>\n",
       "      <th>count</th>\n",
       "      <td>23969</td>\n",
       "      <td>22619</td>\n",
       "      <td>22619</td>\n",
       "      <td>9088</td>\n",
       "      <td>9088</td>\n",
       "      <td>23784</td>\n",
       "      <td>23784</td>\n",
       "      <td>23784</td>\n",
       "      <td>23784</td>\n",
       "      <td>23967</td>\n",
       "      <td>23969</td>\n",
       "      <td>23967</td>\n",
       "    </tr>\n",
       "    <tr>\n",
       "      <th>unique</th>\n",
       "      <td>2295</td>\n",
       "      <td>500</td>\n",
       "      <td>497</td>\n",
       "      <td>1139</td>\n",
       "      <td>1135</td>\n",
       "      <td>84</td>\n",
       "      <td>83</td>\n",
       "      <td>84</td>\n",
       "      <td>82</td>\n",
       "      <td>9</td>\n",
       "      <td>23935</td>\n",
       "      <td>23404</td>\n",
       "    </tr>\n",
       "    <tr>\n",
       "      <th>top</th>\n",
       "      <td>Rotterdam-Breda (HSL)</td>\n",
       "      <td>Breda - Rotterdam Centraal (HSL)</td>\n",
       "      <td>15</td>\n",
       "      <td>Breda,Rotterdam Centraal</td>\n",
       "      <td>BD, RTD</td>\n",
       "      <td>defecte trein</td>\n",
       "      <td>broken down train</td>\n",
       "      <td>defecte trein</td>\n",
       "      <td>broken down train</td>\n",
       "      <td>infrastructure</td>\n",
       "      <td>2016-09-15 14:32:02</td>\n",
       "      <td>2011-07-02 09:52:02</td>\n",
       "    </tr>\n",
       "    <tr>\n",
       "      <th>freq</th>\n",
       "      <td>418</td>\n",
       "      <td>586</td>\n",
       "      <td>586</td>\n",
       "      <td>433</td>\n",
       "      <td>433</td>\n",
       "      <td>5555</td>\n",
       "      <td>5555</td>\n",
       "      <td>5603</td>\n",
       "      <td>5603</td>\n",
       "      <td>8328</td>\n",
       "      <td>2</td>\n",
       "      <td>4</td>\n",
       "    </tr>\n",
       "  </tbody>\n",
       "</table>\n",
       "</div>"
      ],
      "text/plain": [
       "                     ns_lines                         rdt_lines rdt_lines_id  \\\n",
       "count                   23969                             22619        22619   \n",
       "unique                   2295                               500          497   \n",
       "top     Rotterdam-Breda (HSL)  Breda - Rotterdam Centraal (HSL)           15   \n",
       "freq                      418                               586          586   \n",
       "\n",
       "               rdt_station_names rdt_station_codes       cause_nl  \\\n",
       "count                       9088              9088          23784   \n",
       "unique                      1139              1135             84   \n",
       "top     Breda,Rotterdam Centraal           BD, RTD  defecte trein   \n",
       "freq                         433               433           5555   \n",
       "\n",
       "                 cause_en statistical_cause_nl statistical_cause_en  \\\n",
       "count               23784                23784                23784   \n",
       "unique                 83                   84                   82   \n",
       "top     broken down train        defecte trein    broken down train   \n",
       "freq                 5555                 5603                 5603   \n",
       "\n",
       "           cause_group           start_time             end_time  \n",
       "count            23967                23969                23967  \n",
       "unique               9                23935                23404  \n",
       "top     infrastructure  2016-09-15 14:32:02  2011-07-02 09:52:02  \n",
       "freq              8328                    2                    4  "
      ]
     },
     "execution_count": 15,
     "metadata": {},
     "output_type": "execute_result"
    }
   ],
   "source": [
    "dfo.describe(include='O')"
   ]
  },
  {
   "cell_type": "markdown",
   "metadata": {},
   "source": [
    "Possibly add the features: day of the week and hour of the day for the start time. End time is not known when predicting."
   ]
  },
  {
   "cell_type": "code",
   "execution_count": 16,
   "metadata": {
    "ExecuteTime": {
     "end_time": "2020-01-10T14:59:33.172748Z",
     "start_time": "2020-01-10T14:59:33.168748Z"
    }
   },
   "outputs": [
    {
     "name": "stdout",
     "output_type": "stream",
     "text": [
      "['rdt_id' 'ns_lines' 'rdt_lines' 'rdt_lines_id' 'rdt_station_names'\n",
      " 'rdt_station_codes' 'cause_nl' 'cause_en' 'statistical_cause_nl'\n",
      " 'statistical_cause_en' 'cause_group' 'start_time' 'end_time'\n",
      " 'duration_minutes']\n"
     ]
    }
   ],
   "source": [
    "print(dfo.columns.values)"
   ]
  },
  {
   "cell_type": "code",
   "execution_count": null,
   "metadata": {
    "ExecuteTime": {
     "end_time": "2020-01-10T14:42:46.101992Z",
     "start_time": "2020-01-10T14:42:46.093943Z"
    }
   },
   "outputs": [],
   "source": []
  },
  {
   "cell_type": "code",
   "execution_count": 105,
   "metadata": {
    "ExecuteTime": {
     "end_time": "2020-01-10T16:04:13.385114Z",
     "start_time": "2020-01-10T16:04:13.347116Z"
    }
   },
   "outputs": [],
   "source": [
    "# Extracting the relevant data \n",
    "df = dfo.copy(deep=True)\n",
    "df = df[~df['duration_minutes'].isna()]\n",
    "df = df[~df['rdt_lines'].isna()]\n",
    "df = df[~df['cause_en'].isna()]\n",
    "\n",
    "df['cause_group'] = df['cause_group'].fillna('unknown')\n",
    "df['cause_group'] = df['cause_group'].fillna('unknown')\n",
    "\n",
    "df = df.reset_index(drop=True)\n",
    "\n",
    "y = df['duration_minutes']\n",
    "y, bins = pd.cut(y, [0, 90, 1000000], labels=range(2), retbins=True)\n",
    "#y, bins = pd.qcut(y, 2, labels=range(2), retbins=True)\n",
    "y = y.values.astype(np.int8)\n",
    "\n",
    "drop_cols = ['rdt_id', \n",
    "             'ns_lines', \n",
    "             'rdt_lines_id',\n",
    "             'rdt_station_codes', \n",
    "             'cause_nl', \n",
    "             'statistical_cause_nl',\n",
    "             'end_time', \n",
    "             'duration_minutes']\n",
    "\n",
    "df = df.drop(columns=drop_cols)"
   ]
  },
  {
   "cell_type": "code",
   "execution_count": 106,
   "metadata": {
    "ExecuteTime": {
     "end_time": "2020-01-10T16:04:13.662115Z",
     "start_time": "2020-01-10T16:04:13.654116Z"
    }
   },
   "outputs": [
    {
     "name": "stdout",
     "output_type": "stream",
     "text": [
      "[      0      90 1000000]\n"
     ]
    },
    {
     "data": {
      "text/plain": [
       "0    12135\n",
       "1    10452\n",
       "dtype: int64"
      ]
     },
     "execution_count": 106,
     "metadata": {},
     "output_type": "execute_result"
    }
   ],
   "source": [
    "print(bins)\n",
    "pd.value_counts(y)"
   ]
  },
  {
   "cell_type": "markdown",
   "metadata": {},
   "source": [
    "We want to engineer:\n",
    "* Day of the week\n",
    "* Month of the year\n",
    "* Year \n",
    "* Hour of the day\n",
    "* Number of affected station \n",
    "* Number of affected lines\n",
    "\n",
    "In the future possibly expand with:\n",
    "* Km of track affected \n",
    "* Estimate for the location in NL (let's say per province), or rural vs city area"
   ]
  },
  {
   "cell_type": "code",
   "execution_count": 107,
   "metadata": {
    "ExecuteTime": {
     "end_time": "2020-01-10T16:04:13.879116Z",
     "start_time": "2020-01-10T16:04:13.872114Z"
    }
   },
   "outputs": [],
   "source": [
    "start_time = df['start_time']\n",
    "start_time = pd.to_datetime(start_time)"
   ]
  },
  {
   "cell_type": "code",
   "execution_count": 108,
   "metadata": {
    "ExecuteTime": {
     "end_time": "2020-01-10T16:04:14.380114Z",
     "start_time": "2020-01-10T16:04:14.129115Z"
    }
   },
   "outputs": [],
   "source": [
    "year = start_time.apply(lambda x: x.year - 2000).values.astype(np.int8)\n",
    "month = start_time.apply(lambda x: x.month).values.astype(np.int8)\n",
    "weekday = start_time.apply(lambda x: x.weekday()).values.astype(np.int8)\n",
    "hour = start_time.apply(lambda x: x.hour).values.astype(np.int8)"
   ]
  },
  {
   "cell_type": "code",
   "execution_count": 109,
   "metadata": {
    "ExecuteTime": {
     "end_time": "2020-01-10T16:04:14.582115Z",
     "start_time": "2020-01-10T16:04:14.564115Z"
    }
   },
   "outputs": [],
   "source": [
    "#df['year'] = year\n",
    "# df['monthSin'] = np.sin(2*np.pi*weekday/11)\n",
    "# df['monthCos'] = np.cos(2*np.pi*month/11)\n",
    "# df['weekdaySin'] = np.sin(2*np.pi*weekday/6)\n",
    "# df['weekdayCos'] = np.cos(2*np.pi*weekday/6)\n",
    "df['hourSin'] = np.sin(2*np.pi*hour/23)\n",
    "df['hourCos'] = np.cos(2*np.pi*hour/23)\n",
    "df = df.drop(columns=['start_time'])"
   ]
  },
  {
   "cell_type": "code",
   "execution_count": 110,
   "metadata": {
    "ExecuteTime": {
     "end_time": "2020-01-10T16:04:14.821117Z",
     "start_time": "2020-01-10T16:04:14.809117Z"
    }
   },
   "outputs": [
    {
     "data": {
      "text/html": [
       "<div>\n",
       "<style scoped>\n",
       "    .dataframe tbody tr th:only-of-type {\n",
       "        vertical-align: middle;\n",
       "    }\n",
       "\n",
       "    .dataframe tbody tr th {\n",
       "        vertical-align: top;\n",
       "    }\n",
       "\n",
       "    .dataframe thead th {\n",
       "        text-align: right;\n",
       "    }\n",
       "</style>\n",
       "<table border=\"1\" class=\"dataframe\">\n",
       "  <thead>\n",
       "    <tr style=\"text-align: right;\">\n",
       "      <th></th>\n",
       "      <th>rdt_lines</th>\n",
       "      <th>rdt_station_names</th>\n",
       "      <th>cause_en</th>\n",
       "      <th>statistical_cause_en</th>\n",
       "      <th>cause_group</th>\n",
       "      <th>hourSin</th>\n",
       "      <th>hourCos</th>\n",
       "    </tr>\n",
       "  </thead>\n",
       "  <tbody>\n",
       "    <tr>\n",
       "      <th>0</th>\n",
       "      <td>Amersfoort - Apeldoorn</td>\n",
       "      <td>NaN</td>\n",
       "      <td>by police orders</td>\n",
       "      <td>by police orders</td>\n",
       "      <td>external</td>\n",
       "      <td>-2.449294e-16</td>\n",
       "      <td>1.000000</td>\n",
       "    </tr>\n",
       "    <tr>\n",
       "      <th>1</th>\n",
       "      <td>Amersfoort - Ede-Wageningen</td>\n",
       "      <td>NaN</td>\n",
       "      <td>by police orders</td>\n",
       "      <td>by police orders</td>\n",
       "      <td>external</td>\n",
       "      <td>0.000000e+00</td>\n",
       "      <td>1.000000</td>\n",
       "    </tr>\n",
       "    <tr>\n",
       "      <th>2</th>\n",
       "      <td>Breda - Roosendaal</td>\n",
       "      <td>NaN</td>\n",
       "      <td>copper theft</td>\n",
       "      <td>copper theft</td>\n",
       "      <td>external</td>\n",
       "      <td>9.976688e-01</td>\n",
       "      <td>-0.068242</td>\n",
       "    </tr>\n",
       "    <tr>\n",
       "      <th>3</th>\n",
       "      <td>Eindhoven - Venlo</td>\n",
       "      <td>NaN</td>\n",
       "      <td>person hit by a train</td>\n",
       "      <td>person hit by a train</td>\n",
       "      <td>accidents</td>\n",
       "      <td>9.422609e-01</td>\n",
       "      <td>-0.334880</td>\n",
       "    </tr>\n",
       "    <tr>\n",
       "      <th>4</th>\n",
       "      <td>Leiden Centraal - Utrecht Centraal</td>\n",
       "      <td>NaN</td>\n",
       "      <td>broken down train</td>\n",
       "      <td>broken down train</td>\n",
       "      <td>rolling stock</td>\n",
       "      <td>9.422609e-01</td>\n",
       "      <td>-0.334880</td>\n",
       "    </tr>\n",
       "    <tr>\n",
       "      <th>...</th>\n",
       "      <td>...</td>\n",
       "      <td>...</td>\n",
       "      <td>...</td>\n",
       "      <td>...</td>\n",
       "      <td>...</td>\n",
       "      <td>...</td>\n",
       "      <td>...</td>\n",
       "    </tr>\n",
       "    <tr>\n",
       "      <th>22582</th>\n",
       "      <td>Haarlem - Leiden Centraal</td>\n",
       "      <td>Heemstede-Aerdenhout,Hillegom,Haarlem,Leiden C...</td>\n",
       "      <td>broken down train</td>\n",
       "      <td>broken down train</td>\n",
       "      <td>rolling stock</td>\n",
       "      <td>6.310879e-01</td>\n",
       "      <td>-0.775711</td>\n",
       "    </tr>\n",
       "    <tr>\n",
       "      <th>22583</th>\n",
       "      <td>Den Haag Centraal - Leiden Centraal</td>\n",
       "      <td>De Vink,Den Haag Centraal,Den Haag Mariahoeve,...</td>\n",
       "      <td>disruption elsewhere</td>\n",
       "      <td>disruption elsewhere</td>\n",
       "      <td>logistical</td>\n",
       "      <td>6.310879e-01</td>\n",
       "      <td>-0.775711</td>\n",
       "    </tr>\n",
       "    <tr>\n",
       "      <th>22584</th>\n",
       "      <td>Amsterdam Centraal - Haarlem</td>\n",
       "      <td>Amsterdam Centraal,Amsterdam Sloterdijk,Haarle...</td>\n",
       "      <td>disruption elsewhere</td>\n",
       "      <td>disruption elsewhere</td>\n",
       "      <td>logistical</td>\n",
       "      <td>3.984011e-01</td>\n",
       "      <td>-0.917211</td>\n",
       "    </tr>\n",
       "    <tr>\n",
       "      <th>22585</th>\n",
       "      <td>Rotterdam Centraal - Schiphol Airport (HSL)</td>\n",
       "      <td>Rotterdam Centraal,Schiphol Airport</td>\n",
       "      <td>broken down train</td>\n",
       "      <td>broken down train</td>\n",
       "      <td>rolling stock</td>\n",
       "      <td>1.361666e-01</td>\n",
       "      <td>-0.990686</td>\n",
       "    </tr>\n",
       "    <tr>\n",
       "      <th>22586</th>\n",
       "      <td>Groningen - Eemshaven</td>\n",
       "      <td>Baflo,Warffum</td>\n",
       "      <td>signal failure</td>\n",
       "      <td>signal failure</td>\n",
       "      <td>infrastructure</td>\n",
       "      <td>-3.984011e-01</td>\n",
       "      <td>-0.917211</td>\n",
       "    </tr>\n",
       "  </tbody>\n",
       "</table>\n",
       "<p>22587 rows × 7 columns</p>\n",
       "</div>"
      ],
      "text/plain": [
       "                                         rdt_lines  \\\n",
       "0                           Amersfoort - Apeldoorn   \n",
       "1                      Amersfoort - Ede-Wageningen   \n",
       "2                               Breda - Roosendaal   \n",
       "3                                Eindhoven - Venlo   \n",
       "4               Leiden Centraal - Utrecht Centraal   \n",
       "...                                            ...   \n",
       "22582                    Haarlem - Leiden Centraal   \n",
       "22583          Den Haag Centraal - Leiden Centraal   \n",
       "22584                 Amsterdam Centraal - Haarlem   \n",
       "22585  Rotterdam Centraal - Schiphol Airport (HSL)   \n",
       "22586                        Groningen - Eemshaven   \n",
       "\n",
       "                                       rdt_station_names  \\\n",
       "0                                                    NaN   \n",
       "1                                                    NaN   \n",
       "2                                                    NaN   \n",
       "3                                                    NaN   \n",
       "4                                                    NaN   \n",
       "...                                                  ...   \n",
       "22582  Heemstede-Aerdenhout,Hillegom,Haarlem,Leiden C...   \n",
       "22583  De Vink,Den Haag Centraal,Den Haag Mariahoeve,...   \n",
       "22584  Amsterdam Centraal,Amsterdam Sloterdijk,Haarle...   \n",
       "22585                Rotterdam Centraal,Schiphol Airport   \n",
       "22586                                      Baflo,Warffum   \n",
       "\n",
       "                    cause_en   statistical_cause_en     cause_group  \\\n",
       "0           by police orders       by police orders        external   \n",
       "1           by police orders       by police orders        external   \n",
       "2               copper theft           copper theft        external   \n",
       "3      person hit by a train  person hit by a train       accidents   \n",
       "4          broken down train      broken down train   rolling stock   \n",
       "...                      ...                    ...             ...   \n",
       "22582      broken down train      broken down train   rolling stock   \n",
       "22583   disruption elsewhere   disruption elsewhere      logistical   \n",
       "22584   disruption elsewhere   disruption elsewhere      logistical   \n",
       "22585      broken down train      broken down train   rolling stock   \n",
       "22586         signal failure         signal failure  infrastructure   \n",
       "\n",
       "            hourSin   hourCos  \n",
       "0     -2.449294e-16  1.000000  \n",
       "1      0.000000e+00  1.000000  \n",
       "2      9.976688e-01 -0.068242  \n",
       "3      9.422609e-01 -0.334880  \n",
       "4      9.422609e-01 -0.334880  \n",
       "...             ...       ...  \n",
       "22582  6.310879e-01 -0.775711  \n",
       "22583  6.310879e-01 -0.775711  \n",
       "22584  3.984011e-01 -0.917211  \n",
       "22585  1.361666e-01 -0.990686  \n",
       "22586 -3.984011e-01 -0.917211  \n",
       "\n",
       "[22587 rows x 7 columns]"
      ]
     },
     "execution_count": 110,
     "metadata": {},
     "output_type": "execute_result"
    }
   ],
   "source": [
    "df"
   ]
  },
  {
   "cell_type": "code",
   "execution_count": 111,
   "metadata": {
    "ExecuteTime": {
     "end_time": "2020-01-10T16:04:15.268115Z",
     "start_time": "2020-01-10T16:04:15.257116Z"
    }
   },
   "outputs": [],
   "source": [
    "df = pd.concat([df, pd.get_dummies(df['cause_group'], prefix='cause')], axis=1)\n",
    "df = df.drop(columns=['cause_group'])"
   ]
  },
  {
   "cell_type": "code",
   "execution_count": 112,
   "metadata": {
    "ExecuteTime": {
     "end_time": "2020-01-10T16:04:15.789798Z",
     "start_time": "2020-01-10T16:04:15.774800Z"
    }
   },
   "outputs": [],
   "source": [
    "df['affected_lines'] = df['rdt_lines'].apply(lambda x: len(x.split(',')))\n",
    "df = df.drop(columns=['rdt_lines'])"
   ]
  },
  {
   "cell_type": "code",
   "execution_count": 113,
   "metadata": {
    "ExecuteTime": {
     "end_time": "2020-01-10T16:04:16.318455Z",
     "start_time": "2020-01-10T16:04:16.302456Z"
    }
   },
   "outputs": [],
   "source": [
    "a = pd.value_counts(df['statistical_cause_en']) < 50\n",
    "a = dict(a)\n",
    "temp = pd.get_dummies(df['statistical_cause_en'].apply(lambda x: ('other' if a[x] else x)),\n",
    "                      prefix='statcause')\n",
    "\n",
    "df = pd.concat([df, temp], axis=1)"
   ]
  },
  {
   "cell_type": "code",
   "execution_count": 114,
   "metadata": {
    "ExecuteTime": {
     "end_time": "2020-01-10T16:04:16.888933Z",
     "start_time": "2020-01-10T16:04:16.879932Z"
    }
   },
   "outputs": [],
   "source": [
    "df = df.drop(columns=['rdt_station_names', 'cause_en', 'statistical_cause_en'])"
   ]
  },
  {
   "cell_type": "code",
   "execution_count": 115,
   "metadata": {
    "ExecuteTime": {
     "end_time": "2020-01-10T16:04:17.102931Z",
     "start_time": "2020-01-10T16:04:17.098932Z"
    }
   },
   "outputs": [],
   "source": [
    "X = df"
   ]
  },
  {
   "cell_type": "code",
   "execution_count": 116,
   "metadata": {
    "ExecuteTime": {
     "end_time": "2020-01-10T16:04:17.314049Z",
     "start_time": "2020-01-10T16:04:17.311932Z"
    }
   },
   "outputs": [],
   "source": [
    "assert(len(X) == len(y ))"
   ]
  },
  {
   "cell_type": "code",
   "execution_count": 117,
   "metadata": {
    "ExecuteTime": {
     "end_time": "2020-01-10T16:04:17.516934Z",
     "start_time": "2020-01-10T16:04:17.513931Z"
    }
   },
   "outputs": [],
   "source": [
    "from sklearn.model_selection import train_test_split"
   ]
  },
  {
   "cell_type": "code",
   "execution_count": 118,
   "metadata": {
    "ExecuteTime": {
     "end_time": "2020-01-10T16:04:17.775444Z",
     "start_time": "2020-01-10T16:04:17.761932Z"
    }
   },
   "outputs": [],
   "source": [
    "X_train, X_test, y_train, y_test = train_test_split(X, y, test_size=0.2, random_state=1)\n",
    "\n",
    "X_train, X_val, y_train, y_val = train_test_split(X_train, y_train, test_size=0.2, random_state=1)"
   ]
  },
  {
   "cell_type": "code",
   "execution_count": 119,
   "metadata": {
    "ExecuteTime": {
     "end_time": "2020-01-10T16:04:17.931444Z",
     "start_time": "2020-01-10T16:04:17.927444Z"
    }
   },
   "outputs": [],
   "source": [
    "import seaborn as sea\n",
    "import matplotlib.pyplot as plt"
   ]
  },
  {
   "cell_type": "code",
   "execution_count": 120,
   "metadata": {
    "ExecuteTime": {
     "end_time": "2020-01-10T16:31:03.958502Z",
     "start_time": "2020-01-10T16:31:03.773501Z"
    }
   },
   "outputs": [
    {
     "data": {
      "text/plain": [
       "<matplotlib.axes._subplots.AxesSubplot at 0x2055532f8d0>"
      ]
     },
     "execution_count": 120,
     "metadata": {},
     "output_type": "execute_result"
    },
    {
     "data": {
      "image/png": "[encoded data removed]",
      "text/plain": [
       "<Figure size 864x864 with 2 Axes>"
      ]
     },
     "metadata": {
      "needs_background": "light"
     },
     "output_type": "display_data"
    }
   ],
   "source": [
    "plt.figure(figsize=(12,12))\n",
    "corr_matrix = pd.concat([X, pd.DataFrame(y)], axis=1).corr()\n",
    "sea.heatmap(corr_matrix)"
   ]
  },
  {
   "cell_type": "code",
   "execution_count": 121,
   "metadata": {},
   "outputs": [],
   "source": [
    "cols_correlated = corr_matrix.index[(np.abs(corr_matrix[0]) > 0.05).values][:-1]"
   ]
  },
  {
   "cell_type": "code",
   "execution_count": 122,
   "metadata": {},
   "outputs": [],
   "source": [
    "X = X[cols_correlated]"
   ]
  },
  {
   "cell_type": "code",
   "execution_count": 123,
   "metadata": {},
   "outputs": [
    {
     "data": {
      "text/plain": [
       "<matplotlib.axes._subplots.AxesSubplot at 0x20554e02278>"
      ]
     },
     "execution_count": 123,
     "metadata": {},
     "output_type": "execute_result"
    },
    {
     "data": {
      "image/png": "[encoded data removed]",
      "text/plain": [
       "<Figure size 432x432 with 2 Axes>"
      ]
     },
     "metadata": {
      "needs_background": "light"
     },
     "output_type": "display_data"
    }
   ],
   "source": [
    "plt.figure(figsize=(6,6))\n",
    "corr_matrix = pd.concat([X, pd.DataFrame(y)], axis=1).corr()\n",
    "sea.heatmap(corr_matrix)"
   ]
  },
  {
   "cell_type": "code",
   "execution_count": 124,
   "metadata": {},
   "outputs": [],
   "source": [
    "X_train, X_test, y_train, y_test = train_test_split(X, y, test_size=0.2, random_state=1)\n",
    "\n",
    "X_train, X_val, y_train, y_val = train_test_split(X_train, y_train, test_size=0.2, random_state=1)"
   ]
  },
  {
   "cell_type": "code",
   "execution_count": 125,
   "metadata": {
    "ExecuteTime": {
     "end_time": "2020-01-10T16:23:21.260926Z",
     "start_time": "2020-01-10T16:23:21.256381Z"
    }
   },
   "outputs": [
    {
     "ename": "NameError",
     "evalue": "name 'knn' is not defined",
     "output_type": "error",
     "traceback": [
      "\u001b[1;31m---------------------------------------------------------------------------\u001b[0m",
      "\u001b[1;31mNameError\u001b[0m                                 Traceback (most recent call last)",
      "\u001b[1;32m<ipython-input-125-2c3bb24f486f>\u001b[0m in \u001b[0;36m<module>\u001b[1;34m\u001b[0m\n\u001b[0;32m     13\u001b[0m     \u001b[1;33m(\u001b[0m\u001b[1;34m'tree'\u001b[0m\u001b[1;33m,\u001b[0m \u001b[0mtree\u001b[0m\u001b[1;33m)\u001b[0m\u001b[1;33m,\u001b[0m\u001b[1;33m\u001b[0m\u001b[1;33m\u001b[0m\u001b[0m\n\u001b[0;32m     14\u001b[0m     \u001b[1;33m(\u001b[0m\u001b[1;34m'rf'\u001b[0m\u001b[1;33m,\u001b[0m \u001b[0mrf\u001b[0m\u001b[1;33m)\u001b[0m\u001b[1;33m,\u001b[0m\u001b[1;33m\u001b[0m\u001b[1;33m\u001b[0m\u001b[0m\n\u001b[1;32m---> 15\u001b[1;33m     \u001b[1;33m(\u001b[0m\u001b[1;34m'knn'\u001b[0m\u001b[1;33m,\u001b[0m \u001b[0mknn\u001b[0m\u001b[1;33m)\u001b[0m\u001b[1;33m\u001b[0m\u001b[1;33m\u001b[0m\u001b[0m\n\u001b[0m\u001b[0;32m     16\u001b[0m   \u001b[1;31m#  ('svml', svml),\u001b[0m\u001b[1;33m\u001b[0m\u001b[1;33m\u001b[0m\u001b[1;33m\u001b[0m\u001b[0m\n\u001b[0;32m     17\u001b[0m   \u001b[1;31m#  ('svm', svm)\u001b[0m\u001b[1;33m\u001b[0m\u001b[1;33m\u001b[0m\u001b[1;33m\u001b[0m\u001b[0m\n",
      "\u001b[1;31mNameError\u001b[0m: name 'knn' is not defined"
     ]
    }
   ],
   "source": [
    "from sklearn import tree\n",
    "from sklearn import ensemble\n",
    "from sklearn import neighbors\n",
    "from sklearn import svm\n",
    "\n",
    "#tree = tree.DecisionTreeClassifier(min_samples_leaf=80),\n",
    "rf = ensemble.RandomForestClassifier(min_samples_leaf=20),\n",
    "\n",
    "#svml = svm.LinearSVC(max_iter=1000, C=.01),\n",
    "#svm = svm.SVC(max_iter=2000, C=1)\n",
    "\n",
    "models = [\n",
    "    ('tree', tree),\n",
    "    ('rf', rf), \n",
    "    ('knn', knn) \n",
    "  #  ('svml', svml),\n",
    "  #  ('svm', svm)\n",
    "]\n",
    "\n",
    "# predictions = []\n",
    "# for model in models:\n",
    "#     model.fit(X_train, y_train)\n",
    "#     predictions.append(model.predict(X_train))\n",
    "\n",
    "# predictions = pd.DataFrame(predictions).T"
   ]
  },
  {
   "cell_type": "code",
   "execution_count": 126,
   "metadata": {
    "ExecuteTime": {
     "end_time": "2020-01-10T16:26:08.782420Z",
     "start_time": "2020-01-10T16:26:08.777402Z"
    }
   },
   "outputs": [],
   "source": [
    "import numpy as np\n",
    "from sklearn.linear_model import LogisticRegression\n",
    "from sklearn.ensemble import RandomForestClassifier, VotingClassifier\n",
    "clf1 = tree.DecisionTreeClassifier(min_samples_leaf=80)\n",
    "clf2 = RandomForestClassifier(n_estimators=150, random_state=1, min_samples_leaf=80)\n",
    "clf3 = neighbors.KNeighborsClassifier(25)\n",
    "# clf4 = svm.LinearSVC(max_iter=2000, C=.01)\n",
    "# clf5 = svm.SVC(max_iter=2000, C=1)"
   ]
  },
  {
   "cell_type": "code",
   "execution_count": 127,
   "metadata": {
    "ExecuteTime": {
     "end_time": "2020-01-10T16:26:38.835928Z",
     "start_time": "2020-01-10T16:26:36.967422Z"
    }
   },
   "outputs": [],
   "source": [
    "eclf1 = VotingClassifier(estimators=[('tree', clf1),\n",
    "                                     ('rf', clf2), \n",
    "                                     ('knn', clf3)], voting='soft')\n",
    "\n",
    "eclf1 = eclf1.fit(X_train, y_train)"
   ]
  },
  {
   "cell_type": "code",
   "execution_count": 128,
   "metadata": {
    "ExecuteTime": {
     "end_time": "2020-01-10T16:26:41.822971Z",
     "start_time": "2020-01-10T16:26:39.020929Z"
    }
   },
   "outputs": [
    {
     "data": {
      "text/plain": [
       "0.6953303355240401"
      ]
     },
     "execution_count": 128,
     "metadata": {},
     "output_type": "execute_result"
    }
   ],
   "source": [
    "np.mean(eclf1.predict(X_train) == y_train)"
   ]
  },
  {
   "cell_type": "code",
   "execution_count": 129,
   "metadata": {
    "ExecuteTime": {
     "end_time": "2020-01-10T16:26:42.684500Z",
     "start_time": "2020-01-10T16:26:42.002971Z"
    }
   },
   "outputs": [
    {
     "data": {
      "text/plain": [
       "0.7061427780852241"
      ]
     },
     "execution_count": 129,
     "metadata": {},
     "output_type": "execute_result"
    }
   ],
   "source": [
    "np.mean(eclf1.predict(X_val) == y_val)"
   ]
  },
  {
   "cell_type": "code",
   "execution_count": 130,
   "metadata": {
    "ExecuteTime": {
     "end_time": "2020-01-10T16:26:43.665009Z",
     "start_time": "2020-01-10T16:26:42.859500Z"
    }
   },
   "outputs": [
    {
     "data": {
      "text/plain": [
       "0.6888003541389995"
      ]
     },
     "execution_count": 130,
     "metadata": {},
     "output_type": "execute_result"
    }
   ],
   "source": [
    "np.mean(eclf1.predict(X_test) == y_test)"
   ]
  },
  {
   "cell_type": "code",
   "execution_count": 131,
   "metadata": {
    "ExecuteTime": {
     "end_time": "2020-01-10T17:01:58.459325Z",
     "start_time": "2020-01-10T17:01:58.422325Z"
    }
   },
   "outputs": [],
   "source": [
    "from sklearn.preprocessing import StandardScaler  # doctest: +SKIP\n",
    "scaler = StandardScaler()  # doctest: +SKIP\n",
    "# Don't cheat - fit only on training data\n",
    "scaler.fit(X_train)  # doctest: +SKIP\n",
    "X_train = scaler.transform(X_train)  # doctest: +SKIP\n",
    "# apply same transformation to test data\n",
    "X_val = scaler.transform(X_val)  # doctest: +SKIP\n",
    "X_test = scaler.transform(X_test)  # doctest: +SKIP"
   ]
  },
  {
   "cell_type": "code",
   "execution_count": 132,
   "metadata": {
    "ExecuteTime": {
     "end_time": "2020-01-10T17:18:20.165842Z",
     "start_time": "2020-01-10T17:18:18.432649Z"
    }
   },
   "outputs": [
    {
     "name": "stdout",
     "output_type": "stream",
     "text": [
      "0.6857142857142857\n",
      "0.7014388489208633\n"
     ]
    }
   ],
   "source": [
    "from sklearn.neural_network import MLPClassifier\n",
    "clf = MLPClassifier(solver='lbfgs', alpha=100,\n",
    "                    learning_rate='adaptive',\n",
    "                    hidden_layer_sizes=(5,),\n",
    "                    max_iter=5000)\n",
    "clf.fit(X_train, y_train)\n",
    "\n",
    "print(clf.score(X_train, y_train))\n",
    "print(clf.score(X_val, y_val))"
   ]
  },
  {
   "cell_type": "code",
   "execution_count": 133,
   "metadata": {
    "ExecuteTime": {
     "end_time": "2020-01-10T17:18:20.387682Z",
     "start_time": "2020-01-10T17:18:20.381683Z"
    }
   },
   "outputs": [
    {
     "name": "stdout",
     "output_type": "stream",
     "text": [
      "0.6899070385126163\n"
     ]
    }
   ],
   "source": [
    "print(clf.score(X_test, y_test))"
   ]
  },
  {
   "cell_type": "code",
   "execution_count": 134,
   "metadata": {
    "ExecuteTime": {
     "end_time": "2020-01-10T19:27:55.406672Z",
     "start_time": "2020-01-10T19:27:55.402706Z"
    }
   },
   "outputs": [],
   "source": [
    "import numpy as np"
   ]
  },
  {
   "cell_type": "code",
   "execution_count": null,
   "metadata": {},
   "outputs": [],
   "source": []
  }
 ],
 "metadata": {
  "kernelspec": {
   "display_name": "Python 3",
   "language": "python",
   "name": "python3"
  },
  "language_info": {
   "codemirror_mode": {
    "name": "ipython",
    "version": 3
   },
   "file_extension": ".py",
   "mimetype": "text/x-python",
   "name": "python",
   "nbconvert_exporter": "python",
   "pygments_lexer": "ipython3",
   "version": "3.6.9"
  },
  "toc": {
   "base_numbering": 1,
   "nav_menu": {},
   "number_sections": true,
   "sideBar": true,
   "skip_h1_title": false,
   "title_cell": "Table of Contents",
   "title_sidebar": "Contents",
   "toc_cell": false,
   "toc_position": {
    "height": "calc(100% - 180px)",
    "left": "10px",
    "top": "150px",
    "width": "233.333px"
   },
   "toc_section_display": true,
   "toc_window_display": false
  },
  "varInspector": {
   "cols": {
    "lenName": 16,
    "lenType": 16,
    "lenVar": 40
   },
   "kernels_config": {
    "python": {
     "delete_cmd_postfix": "",
     "delete_cmd_prefix": "del ",
     "library": "var_list.py",
     "varRefreshCmd": "print(var_dic_list())"
    },
    "r": {
     "delete_cmd_postfix": ") ",
     "delete_cmd_prefix": "rm(",
     "library": "var_list.r",
     "varRefreshCmd": "cat(var_dic_list()) "
    }
   },
   "types_to_exclude": [
    "module",
    "function",
    "builtin_function_or_method",
    "instance",
    "_Feature"
   ],
   "window_display": false
  }
 },
 "nbformat": 4,
 "nbformat_minor": 4
}
